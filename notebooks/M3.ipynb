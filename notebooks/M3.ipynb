{
 "cells": [
  {
   "cell_type": "markdown",
   "metadata": {},
   "source": [
    "# M3"
   ]
  },
  {
   "cell_type": "code",
   "execution_count": 27,
   "metadata": {},
   "outputs": [
    {
     "name": "stdout",
     "output_type": "stream",
     "text": [
      "The autoreload extension is already loaded. To reload it, use:\n",
      "  %reload_ext autoreload\n"
     ]
    }
   ],
   "source": [
    "%load_ext autoreload\n",
    "%autoreload 2\n",
    "\n",
    "from experiment.stats import Stats\n",
    "\n",
    "source_dataset_name = 'M4'\n",
    "target_dataset_name = 'M3'\n",
    "model = 'deepar'\n",
    "experiments = 30\n",
    "\n",
    "stats = Stats(source_dataset_name=target_dataset_name, target_dataset_name=target_dataset_name, \n",
    "              subsets_mapping = [('yearly', 'yearly'), \n",
    "                                 ('quarterly', 'quarterly'), \n",
    "                                 ('monthly', 'monthly'),\n",
    "                                 ('others', 'others')],\n",
    "              experiments=experiments,\n",
    "              model_name=model)\n",
    "\n",
    "stats_tl = Stats(source_dataset_name=source_dataset_name, target_dataset_name=target_dataset_name, \n",
    "                 subsets_mapping = [('yearly', 'yearly'), \n",
    "                                    ('quarterly', 'quarterly'), \n",
    "                                    ('monthly', 'monthly'),\n",
    "                                    ('quarterly', 'others')],\n",
    "                 experiments=experiments,\n",
    "                 model_name=model)"
   ]
  },
  {
   "cell_type": "code",
   "execution_count": 28,
   "metadata": {},
   "outputs": [
    {
     "data": {
      "text/plain": [
       "{'yearly': 13.332850859442091,\n",
       " 'quarterly': 9.072126145317775,\n",
       " 'monthly': 13.715805832222934,\n",
       " 'others': 7.113392658736871,\n",
       " 'average': 12.668700152519122}"
      ]
     },
     "execution_count": 28,
     "metadata": {},
     "output_type": "execute_result"
    }
   ],
   "source": [
    "stats.scores(ensemble_size=experiments)"
   ]
  },
  {
   "cell_type": "code",
   "execution_count": 29,
   "metadata": {},
   "outputs": [
    {
     "data": {
      "text/plain": [
       "{'yearly': 14.76237916523522,\n",
       " 'quarterly': 9.27982449151173,\n",
       " 'monthly': 16.1452588183786,\n",
       " 'others': 13.092705636940131,\n",
       " 'average': 14.764077506034127}"
      ]
     },
     "execution_count": 29,
     "metadata": {},
     "output_type": "execute_result"
    }
   ],
   "source": [
    "stats_tl.scores(ensemble_size=experiments)"
   ]
  },
  {
   "cell_type": "code",
   "execution_count": null,
   "metadata": {},
   "outputs": [],
   "source": []
  }
 ],
 "metadata": {
  "kernelspec": {
   "display_name": "Python 3",
   "language": "python",
   "name": "python3"
  },
  "language_info": {
   "codemirror_mode": {
    "name": "ipython",
    "version": 3
   },
   "file_extension": ".py",
   "mimetype": "text/x-python",
   "name": "python",
   "nbconvert_exporter": "python",
   "pygments_lexer": "ipython3",
   "version": "3.7.2"
  }
 },
 "nbformat": 4,
 "nbformat_minor": 4
}
