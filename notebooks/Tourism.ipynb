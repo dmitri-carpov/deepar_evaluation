{
 "cells": [
  {
   "cell_type": "markdown",
   "metadata": {},
   "source": [
    "# Tourism"
   ]
  },
  {
   "cell_type": "code",
   "execution_count": 28,
   "metadata": {},
   "outputs": [
    {
     "name": "stdout",
     "output_type": "stream",
     "text": [
      "The autoreload extension is already loaded. To reload it, use:\n",
      "  %reload_ext autoreload\n"
     ]
    }
   ],
   "source": [
    "%load_ext autoreload\n",
    "%autoreload 2\n",
    "\n",
    "from experiment.stats import Stats\n",
    "\n",
    "source_dataset_name = 'M4'\n",
    "target_dataset_name = 'Tourism'\n",
    "model = 'deepar'\n",
    "experiments=30\n",
    "\n",
    "stats = Stats(source_dataset_name=target_dataset_name, target_dataset_name=target_dataset_name, \n",
    "              subsets_mapping = [('yearly', 'yearly'), \n",
    "                                 ('quarterly', 'quarterly'), \n",
    "                                 ('monthly', 'monthly')],\n",
    "              experiments=experiments,\n",
    "              model_name=model)\n",
    "stats_tl = Stats(source_dataset_name=source_dataset_name, target_dataset_name=target_dataset_name, \n",
    "                 subsets_mapping = [('yearly', 'yearly'), \n",
    "                                    ('quarterly', 'quarterly'), \n",
    "                                    ('monthly', 'monthly')],\n",
    "                 experiments=experiments,\n",
    "                 model_name=model)"
   ]
  },
  {
   "cell_type": "code",
   "execution_count": 29,
   "metadata": {},
   "outputs": [
    {
     "data": {
      "text/plain": [
       "{'yearly': 21.14468361317944,\n",
       " 'quarterly': 15.818368013230636,\n",
       " 'monthly': 20.17660499615943,\n",
       " 'average': 19.27400699733521}"
      ]
     },
     "execution_count": 29,
     "metadata": {},
     "output_type": "execute_result"
    }
   ],
   "source": [
    "stats.scores(ensemble_size=experiments)"
   ]
  },
  {
   "cell_type": "code",
   "execution_count": 30,
   "metadata": {},
   "outputs": [
    {
     "data": {
      "text/plain": [
       "{'yearly': 21.5056538956904,\n",
       " 'quarterly': 22.005797524984533,\n",
       " 'monthly': 26.640523989250312,\n",
       " 'average': 24.78572603270687}"
      ]
     },
     "execution_count": 30,
     "metadata": {},
     "output_type": "execute_result"
    }
   ],
   "source": [
    "stats_tl.scores(ensemble_size=experiments)"
   ]
  },
  {
   "cell_type": "code",
   "execution_count": null,
   "metadata": {},
   "outputs": [],
   "source": []
  }
 ],
 "metadata": {
  "kernelspec": {
   "display_name": "Python 3",
   "language": "python",
   "name": "python3"
  },
  "language_info": {
   "codemirror_mode": {
    "name": "ipython",
    "version": 3
   },
   "file_extension": ".py",
   "mimetype": "text/x-python",
   "name": "python",
   "nbconvert_exporter": "python",
   "pygments_lexer": "ipython3",
   "version": "3.7.2"
  }
 },
 "nbformat": 4,
 "nbformat_minor": 4
}
