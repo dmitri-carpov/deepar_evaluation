{
 "cells": [
  {
   "cell_type": "markdown",
   "metadata": {},
   "source": [
    "# Electricity"
   ]
  },
  {
   "cell_type": "code",
   "execution_count": 13,
   "metadata": {},
   "outputs": [
    {
     "name": "stdout",
     "output_type": "stream",
     "text": [
      "The autoreload extension is already loaded. To reload it, use:\n",
      "  %reload_ext autoreload\n"
     ]
    }
   ],
   "source": [
    "%load_ext autoreload\n",
    "%autoreload 2\n",
    "\n",
    "from experiment.stats import Stats\n",
    "\n",
    "source_dataset_name = 'M4'\n",
    "target_dataset_name = 'Electricity'\n",
    "model = 'deepar'\n",
    "experiments=30\n",
    "\n",
    "stats = Stats(source_dataset_name=target_dataset_name, target_dataset_name=target_dataset_name, \n",
    "              subsets_mapping = [('2014-01-01 00:2014-03-31 00', '2014-01-01 00:2014-03-31 00'), \n",
    "                                 ('2014-01-01 00:2014-09-01 00', '2014-01-01 00:2014-09-01 00'), \n",
    "                                 ('2014-03-25 00:2014-12-25 01', '2014-03-25 00:2014-12-25 01')],\n",
    "              experiments=experiments,\n",
    "              model_name=model)\n",
    "stats_tl = Stats(source_dataset_name=source_dataset_name, target_dataset_name=target_dataset_name, \n",
    "                 subsets_mapping = [('hourly', '2014-01-01 00:2014-03-31 00'), \n",
    "                                    ('hourly', '2014-01-01 00:2014-09-01 00'), \n",
    "                                    ('hourly', '2014-03-25 00:2014-12-25 01')],\n",
    "                 experiments=experiments,\n",
    "                 model_name=model)"
   ]
  },
  {
   "cell_type": "code",
   "execution_count": 14,
   "metadata": {
    "pycharm": {
     "name": "#%%\n"
    }
   },
   "outputs": [
    {
     "data": {
      "text/plain": [
       "{'2014-03-31': 0.08877483575176971,\n",
       " '2014-09-01': 0.09388600833449587,\n",
       " 'last7days': 0.7648053907426493}"
      ]
     },
     "execution_count": 14,
     "metadata": {},
     "output_type": "execute_result"
    }
   ],
   "source": [
    "stats.scores(ensemble_size=experiments)"
   ]
  },
  {
   "cell_type": "code",
   "execution_count": 15,
   "metadata": {},
   "outputs": [
    {
     "data": {
      "text/plain": [
       "{'2014-03-31': 0.0812291141787523,\n",
       " '2014-09-01': 0.15133143870577045,\n",
       " 'last7days': 0.5324244918511262}"
      ]
     },
     "execution_count": 15,
     "metadata": {},
     "output_type": "execute_result"
    }
   ],
   "source": [
    "stats_tl.scores(ensemble_size=experiments)"
   ]
  }
 ],
 "metadata": {
  "kernelspec": {
   "display_name": "Python 3",
   "language": "python",
   "name": "python3"
  },
  "language_info": {
   "codemirror_mode": {
    "name": "ipython",
    "version": 3
   },
   "file_extension": ".py",
   "mimetype": "text/x-python",
   "name": "python",
   "nbconvert_exporter": "python",
   "pygments_lexer": "ipython3",
   "version": "3.7.2"
  }
 },
 "nbformat": 4,
 "nbformat_minor": 4
}