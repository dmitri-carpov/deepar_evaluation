{
 "cells": [
  {
   "cell_type": "markdown",
   "metadata": {},
   "source": [
    "# Traffic"
   ]
  },
  {
   "cell_type": "code",
   "execution_count": 16,
   "metadata": {},
   "outputs": [
    {
     "name": "stdout",
     "output_type": "stream",
     "text": [
      "The autoreload extension is already loaded. To reload it, use:\n",
      "  %reload_ext autoreload\n"
     ]
    }
   ],
   "source": [
    "%load_ext autoreload\n",
    "%autoreload 2\n",
    "\n",
    "from experiment.stats import Stats\n",
    "\n",
    "source_dataset_name = 'M4'\n",
    "target_dataset_name = 'Traffic'\n",
    "model = 'deepar'\n",
    "experiments=30\n",
    "\n",
    "stats = Stats(source_dataset_name=target_dataset_name, target_dataset_name=target_dataset_name, \n",
    "              subsets_mapping = [('2008-01-02 01:2008-01-14 00', '2008-01-02 01:2008-01-14 00'), \n",
    "                                 ('2008-01-02 01:2008-06-15 00', '2008-01-02 01:2008-06-15 00'), \n",
    "                                 ('2008-09-02 01:2009-03-24 01', '2008-09-02 01:2009-03-24 01')],\n",
    "              experiments=experiments,\n",
    "              model_name=model)\n",
    "stats_tl = Stats(source_dataset_name=source_dataset_name, target_dataset_name=target_dataset_name, \n",
    "                 subsets_mapping = [('hourly', '2008-01-02 01:2008-01-14 00'), \n",
    "                                    ('hourly', '2008-01-02 01:2008-06-15 00'), \n",
    "                                    ('hourly', '2008-09-02 01:2009-03-24 01')],\n",
    "                 experiments=experiments,\n",
    "                 model_name=model)"
   ]
  },
  {
   "cell_type": "code",
   "execution_count": 17,
   "metadata": {
    "pycharm": {
     "name": "#%%\n"
    }
   },
   "outputs": [
    {
     "data": {
      "text/plain": [
       "{'2008-01-14': 0.47812183757983096,\n",
       " '2008-06-15': 0.1913671364773881,\n",
       " 'last7days': 0.13646692783481296}"
      ]
     },
     "execution_count": 17,
     "metadata": {},
     "output_type": "execute_result"
    }
   ],
   "source": [
    "stats.scores(ensemble_size=experiments)"
   ]
  },
  {
   "cell_type": "code",
   "execution_count": 18,
   "metadata": {},
   "outputs": [
    {
     "data": {
      "text/plain": [
       "{'2008-01-14': 0.4102114702106922,\n",
       " '2008-06-15': 0.3552717062617995,\n",
       " 'last7days': 0.36329087346070954}"
      ]
     },
     "execution_count": 18,
     "metadata": {},
     "output_type": "execute_result"
    }
   ],
   "source": [
    "stats_tl.scores(ensemble_size=experiments)"
   ]
  }
 ],
 "metadata": {
  "kernelspec": {
   "display_name": "Python 3",
   "language": "python",
   "name": "python3"
  },
  "language_info": {
   "codemirror_mode": {
    "name": "ipython",
    "version": 3
   },
   "file_extension": ".py",
   "mimetype": "text/x-python",
   "name": "python",
   "nbconvert_exporter": "python",
   "pygments_lexer": "ipython3",
   "version": "3.7.2"
  }
 },
 "nbformat": 4,
 "nbformat_minor": 4
}