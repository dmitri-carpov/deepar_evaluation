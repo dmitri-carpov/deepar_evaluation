{
 "cells": [
  {
   "cell_type": "markdown",
   "metadata": {},
   "source": [
    "# M4"
   ]
  },
  {
   "cell_type": "code",
   "execution_count": 10,
   "metadata": {},
   "outputs": [
    {
     "name": "stdout",
     "output_type": "stream",
     "text": [
      "The autoreload extension is already loaded. To reload it, use:\n",
      "  %reload_ext autoreload\n"
     ]
    }
   ],
   "source": [
    "%load_ext autoreload\n",
    "%autoreload 2\n",
    "\n",
    "from experiment.stats import Stats\n",
    "\n",
    "target_dataset_name = 'M4'\n",
    "model = 'deepar'\n",
    "experiments=30\n",
    "\n",
    "stats = Stats(source_dataset_name=target_dataset_name, target_dataset_name=target_dataset_name, \n",
    "              subsets_mapping = [('yearly', 'yearly'), \n",
    "                                 ('quarterly', 'quarterly'), \n",
    "                                 ('monthly', 'monthly'),\n",
    "                                \n",
    "                                 ('weekly', 'weekly'),\n",
    "                                 ('daily', 'daily'),\n",
    "                                 ('hourly', 'hourly')],\n",
    "              experiments=experiments,\n",
    "              model_name=model)"
   ]
  },
  {
   "cell_type": "code",
   "execution_count": 11,
   "metadata": {},
   "outputs": [
    {
     "data": {
      "text/plain": [
       "OrderedDict([('yearly', 12.361796940609928),\n",
       "             ('quarterly', 10.822226205551978),\n",
       "             ('monthly', 13.705320694718473),\n",
       "             ('others', 4.668460760971923),\n",
       "             ('average', 12.25252455718622)])"
      ]
     },
     "execution_count": 11,
     "metadata": {},
     "output_type": "execute_result"
    }
   ],
   "source": [
    "stats.scores(ensemble_size=experiments)"
   ]
  },
  {
   "cell_type": "code",
   "execution_count": null,
   "metadata": {},
   "outputs": [],
   "source": []
  }
 ],
 "metadata": {
  "kernelspec": {
   "display_name": "Python 3",
   "language": "python",
   "name": "python3"
  },
  "language_info": {
   "codemirror_mode": {
    "name": "ipython",
    "version": 3
   },
   "file_extension": ".py",
   "mimetype": "text/x-python",
   "name": "python",
   "nbconvert_exporter": "python",
   "pygments_lexer": "ipython3",
   "version": "3.7.2"
  }
 },
 "nbformat": 4,
 "nbformat_minor": 4
}
